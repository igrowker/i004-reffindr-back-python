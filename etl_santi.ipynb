{
 "cells": [
  {
   "cell_type": "markdown",
   "metadata": {
    "id": "Tg2xp6e_Lfsh"
   },
   "source": [
    "## Extraer datos mediante la API de inmobiliaria"
   ]
  },
  {
   "cell_type": "markdown",
   "metadata": {
    "id": "SR2LilttZhYb"
   },
   "source": [
    "pagina donde se hizo el webscraping: https://www.argenprop.com/"
   ]
  },
  {
   "cell_type": "markdown",
   "metadata": {
    "id": "MHOK5FHMZTaK"
   },
   "source": [
    "## Paises admitidos:\n",
    "#### Argentina, Chile, Uruguay, Brasil\n",
    "\n",
    "ojo: brasil solo tiene 1 propiedad"
   ]
  },
  {
   "cell_type": "markdown",
   "metadata": {
    "id": "x3uWPZnlN1hL"
   },
   "source": [
    "## 1. Creamos la conexión con la API para extraer los datos"
   ]
  },
  {
   "cell_type": "code",
   "execution_count": 1,
   "metadata": {
    "id": "9xLDLulUa9t_"
   },
   "outputs": [
    {
     "name": "stdout",
     "output_type": "stream",
     "text": [
      "CPU times: total: 359 ms\n",
      "Wall time: 3min 50s\n"
     ]
    }
   ],
   "source": [
    "%%time\n",
    "import requests\n",
    "import pandas as pd\n",
    "\n",
    "url = 'http://127.0.0.1:5000/argenprop'\n",
    "\n",
    "# Parámetros de la solicitud\n",
    "params = {'pais': 'argentina', 'limite': 300}\n",
    "response = requests.get(url, params=params)\n",
    "\n",
    "data = response.json()\n",
    "df = pd.DataFrame(data)"
   ]
  },
  {
   "cell_type": "code",
   "execution_count": 12,
   "metadata": {},
   "outputs": [],
   "source": [
    "from geopy.geocoders import Nominatim\n",
    "import numpy as np"
   ]
  },
  {
   "cell_type": "code",
   "execution_count": 6,
   "metadata": {},
   "outputs": [
    {
     "data": {
      "text/html": [
       "<div>\n",
       "<style scoped>\n",
       "    .dataframe tbody tr th:only-of-type {\n",
       "        vertical-align: middle;\n",
       "    }\n",
       "\n",
       "    .dataframe tbody tr th {\n",
       "        vertical-align: top;\n",
       "    }\n",
       "\n",
       "    .dataframe thead th {\n",
       "        text-align: right;\n",
       "    }\n",
       "</style>\n",
       "<table border=\"1\" class=\"dataframe\">\n",
       "  <thead>\n",
       "    <tr style=\"text-align: right;\">\n",
       "      <th></th>\n",
       "      <th>Bathrooms</th>\n",
       "      <th>Bedrooms</th>\n",
       "      <th>CountryName</th>\n",
       "      <th>Description</th>\n",
       "      <th>Environments</th>\n",
       "      <th>Latitude</th>\n",
       "      <th>Longitude</th>\n",
       "      <th>Price</th>\n",
       "      <th>Seniority</th>\n",
       "      <th>StateName</th>\n",
       "      <th>Title</th>\n",
       "      <th>img</th>\n",
       "      <th>address</th>\n",
       "    </tr>\n",
       "  </thead>\n",
       "  <tbody>\n",
       "    <tr>\n",
       "      <th>0</th>\n",
       "      <td>2</td>\n",
       "      <td>3</td>\n",
       "      <td>Argentina</td>\n",
       "      <td>Casa en Barrio Privado Camino Real, cuenta con...</td>\n",
       "      <td>4</td>\n",
       "      <td>-34,48684</td>\n",
       "      <td>-58,58234</td>\n",
       "      <td>USD 2.300</td>\n",
       "      <td>27</td>\n",
       "      <td>Buenos Aires</td>\n",
       "      <td>Av. Camino Real Morón San Fernando  1500</td>\n",
       "      <td>[https://static1.sosiva451.com/08910661/ea4bac...</td>\n",
       "      <td>Error: Must be a coordinate pair or Point</td>\n",
       "    </tr>\n",
       "    <tr>\n",
       "      <th>1</th>\n",
       "      <td>2</td>\n",
       "      <td>3</td>\n",
       "      <td>Argentina</td>\n",
       "      <td>Alquilo amplio Duplex en Florencio varela comb...</td>\n",
       "      <td>4</td>\n",
       "      <td>-34,79154</td>\n",
       "      <td>-58,27525</td>\n",
       "      <td>$ 490.000</td>\n",
       "      <td>10</td>\n",
       "      <td>Buenos Aires</td>\n",
       "      <td>Combate De San Lorenzo 1700</td>\n",
       "      <td>[https://static1.sosiva451.com/28339561/734f48...</td>\n",
       "      <td>Error: Must be a coordinate pair or Point</td>\n",
       "    </tr>\n",
       "    <tr>\n",
       "      <th>2</th>\n",
       "      <td>2</td>\n",
       "      <td>4</td>\n",
       "      <td>Argentina</td>\n",
       "      <td>DUEÑO ALQUILA\\r\\n\\n •SIN EXPENSAS\\r\\n •SIN GAS...</td>\n",
       "      <td>5</td>\n",
       "      <td>None</td>\n",
       "      <td>None</td>\n",
       "      <td>USD 1.100</td>\n",
       "      <td>15</td>\n",
       "      <td>Buenos Aires</td>\n",
       "      <td>casa en lujan con pileta alquiler anual</td>\n",
       "      <td>[https://static1.sosiva451.com/09149461/6abd53...</td>\n",
       "      <td>Dr. Gelfant, 1333, V6H 4C1</td>\n",
       "    </tr>\n",
       "    <tr>\n",
       "      <th>3</th>\n",
       "      <td>2</td>\n",
       "      <td>3</td>\n",
       "      <td>Argentina</td>\n",
       "      <td>ALQUILER DE CASA EN BARRIO SANTA ELISA CON PIL...</td>\n",
       "      <td>4</td>\n",
       "      <td>-34,394108</td>\n",
       "      <td>-58,89099</td>\n",
       "      <td>USD 1.500</td>\n",
       "      <td>0</td>\n",
       "      <td>Buenos Aires</td>\n",
       "      <td>Barrio Santa Elisa</td>\n",
       "      <td>[https://static1.sosiva451.com/43958561/2e68e4...</td>\n",
       "      <td>Error: Must be a coordinate pair or Point</td>\n",
       "    </tr>\n",
       "    <tr>\n",
       "      <th>4</th>\n",
       "      <td>4</td>\n",
       "      <td>4</td>\n",
       "      <td>Argentina</td>\n",
       "      <td>EL VALOR ES CON EXPENSAS INCLUIDAS.\\n Excelent...</td>\n",
       "      <td>5</td>\n",
       "      <td>-34,446335</td>\n",
       "      <td>-58,855007</td>\n",
       "      <td>USD 1.950</td>\n",
       "      <td>35</td>\n",
       "      <td>Buenos Aires</td>\n",
       "      <td>U$S1950 con expensas incluidas</td>\n",
       "      <td>[https://static1.sosiva451.com/04247161/263253...</td>\n",
       "      <td>Error: Must be a coordinate pair or Point</td>\n",
       "    </tr>\n",
       "  </tbody>\n",
       "</table>\n",
       "</div>"
      ],
      "text/plain": [
       "  Bathrooms Bedrooms CountryName  \\\n",
       "0         2        3   Argentina   \n",
       "1         2        3   Argentina   \n",
       "2         2        4   Argentina   \n",
       "3         2        3   Argentina   \n",
       "4         4        4   Argentina   \n",
       "\n",
       "                                         Description Environments    Latitude  \\\n",
       "0  Casa en Barrio Privado Camino Real, cuenta con...            4   -34,48684   \n",
       "1  Alquilo amplio Duplex en Florencio varela comb...            4   -34,79154   \n",
       "2  DUEÑO ALQUILA\\r\\n\\n •SIN EXPENSAS\\r\\n •SIN GAS...            5        None   \n",
       "3  ALQUILER DE CASA EN BARRIO SANTA ELISA CON PIL...            4  -34,394108   \n",
       "4  EL VALOR ES CON EXPENSAS INCLUIDAS.\\n Excelent...            5  -34,446335   \n",
       "\n",
       "    Longitude      Price Seniority     StateName  \\\n",
       "0   -58,58234  USD 2.300        27  Buenos Aires   \n",
       "1   -58,27525  $ 490.000        10  Buenos Aires   \n",
       "2        None  USD 1.100        15  Buenos Aires   \n",
       "3   -58,89099  USD 1.500         0  Buenos Aires   \n",
       "4  -58,855007  USD 1.950        35  Buenos Aires   \n",
       "\n",
       "                                      Title  \\\n",
       "0  Av. Camino Real Morón San Fernando  1500   \n",
       "1               Combate De San Lorenzo 1700   \n",
       "2   casa en lujan con pileta alquiler anual   \n",
       "3                        Barrio Santa Elisa   \n",
       "4            U$S1950 con expensas incluidas   \n",
       "\n",
       "                                                 img  \\\n",
       "0  [https://static1.sosiva451.com/08910661/ea4bac...   \n",
       "1  [https://static1.sosiva451.com/28339561/734f48...   \n",
       "2  [https://static1.sosiva451.com/09149461/6abd53...   \n",
       "3  [https://static1.sosiva451.com/43958561/2e68e4...   \n",
       "4  [https://static1.sosiva451.com/04247161/263253...   \n",
       "\n",
       "                                     address  \n",
       "0  Error: Must be a coordinate pair or Point  \n",
       "1  Error: Must be a coordinate pair or Point  \n",
       "2                 Dr. Gelfant, 1333, V6H 4C1  \n",
       "3  Error: Must be a coordinate pair or Point  \n",
       "4  Error: Must be a coordinate pair or Point  "
      ]
     },
     "execution_count": 6,
     "metadata": {},
     "output_type": "execute_result"
    }
   ],
   "source": [
    "df.head()"
   ]
  },
  {
   "cell_type": "code",
   "execution_count": 8,
   "metadata": {},
   "outputs": [],
   "source": [
    "df['Latitude'] = df['Latitude'].str.replace(',', '.').astype(float)\n",
    "df['Longitude'] = df['Longitude'].str.replace(',', '.').astype(float)\n"
   ]
  },
  {
   "cell_type": "code",
   "execution_count": 9,
   "metadata": {},
   "outputs": [],
   "source": [
    "df = df.dropna(subset=['Latitude', 'Longitude'])\n"
   ]
  },
  {
   "cell_type": "code",
   "execution_count": null,
   "metadata": {},
   "outputs": [
    {
     "name": "stderr",
     "output_type": "stream",
     "text": [
      "E:\\Usuario\\Archivos temporales de Usuario\\ipykernel_17160\\2421805109.py:13: SettingWithCopyWarning: \n",
      "A value is trying to be set on a copy of a slice from a DataFrame.\n",
      "Try using .loc[row_indexer,col_indexer] = value instead\n",
      "\n",
      "See the caveats in the documentation: https://pandas.pydata.org/pandas-docs/stable/user_guide/indexing.html#returning-a-view-versus-a-copy\n",
      "  df['address'] = df.apply(lambda x: obtener_direccion(x['Latitude'], x['Longitude']), axis=1)\n"
     ]
    }
   ],
   "source": [
    "# Inicializa el geocodificador\n",
    "geolocator = Nominatim(user_agent=\"geoapi_exercises\")\n",
    "\n",
    "# Función para obtener la dirección\n",
    "def obtener_direccion(lat, lon):\n",
    "    try:\n",
    "        location = geolocator.reverse((lat, lon))\n",
    "        return location.address if location else \"Dirección no encontrada\"\n",
    "    except Exception as e:\n",
    "        return f\"Error: {e}\"\n",
    "\n",
    "# Aplica la función a cada fila del DataFrame\n",
    "df['Address'] = df.apply(lambda x: obtener_direccion(x['Latitude'], x['Longitude']), axis=1)"
   ]
  },
  {
   "cell_type": "code",
   "execution_count": null,
   "metadata": {},
   "outputs": [
    {
     "name": "stderr",
     "output_type": "stream",
     "text": [
      "E:\\Usuario\\Archivos temporales de Usuario\\ipykernel_17160\\1926705852.py:2: SettingWithCopyWarning: \n",
      "A value is trying to be set on a copy of a slice from a DataFrame.\n",
      "Try using .loc[row_indexer,col_indexer] = value instead\n",
      "\n",
      "See the caveats in the documentation: https://pandas.pydata.org/pandas-docs/stable/user_guide/indexing.html#returning-a-view-versus-a-copy\n",
      "  df['address'] = df['address'].apply(lambda x: ', '.join(x.split(', ')[:3]))\n"
     ]
    }
   ],
   "source": [
    "# me quedo con los primeros 3 elementos de la dirección\n",
    "df['Address'] = df['Address'].apply(lambda x: ', '.join(x.split(', ')[:3]))"
   ]
  },
  {
   "cell_type": "code",
   "execution_count": null,
   "metadata": {},
   "outputs": [],
   "source": [
    "# Lista de columnas\n",
    "columnas = [\n",
    "    \"Water\", \"Gas\", \"Surveillance\", \"Electricity\", \"Internet\", \n",
    "    \"Pool\", \"Garage\", \"Pets\", \"Grill\", \"Elevator\", \"Terrace\",\n",
    "    \"IsHistoric\", \"IsWorking\", \"HasWarranty\", \"RangeSalary\"\n",
    "]\n",
    "\n",
    "# Agregar columnas con valores específicos\n",
    "for column in columnas:\n",
    "    if column in [\"Water\", \"Gas\", \"Electricity\"]:\n",
    "        df[column] = True  # Estas columnas son siempre True\n",
    "    elif column in [\"Surveillance\", \"Pets\", \"Pool\"]:\n",
    "        df[column] = np.random.choice([True, False], size=len(df))\n",
    "    elif column == \"RangeSalary\":\n",
    "        # Genero los salarios con distribución sesgada a la izquierda\n",
    "        salary_range = np.random.triangular(left=400000, mode=1200000, right=3000000, size=len(df))\n",
    "        salary_range = salary_range.astype(int)  # Asegurarnos de que sean números enteros\n",
    "        df[column] = salary_range\n",
    "    else:\n",
    "        df[column] = np.random.choice([True, False], size=len(df), p=[0.8, 0.2]) # sesgo para que haya mas true que false"
   ]
  },
  {
   "cell_type": "code",
   "execution_count": 20,
   "metadata": {},
   "outputs": [],
   "source": [
    "# elimino las columnas latitud y longitud\n",
    "df = df.drop(columns=['Latitude', 'Longitude'])"
   ]
  },
  {
   "cell_type": "code",
   "execution_count": 22,
   "metadata": {},
   "outputs": [],
   "source": [
    "orden_col = [\n",
    "    \"IsWorking\", \"HasWarranty\", \"RangeSalary\", \"CountryName\", \"StateName\", \"Title\", \"Address\", \"Price\", \"Environments\", \n",
    "    \"Bathrooms\", \"Bedrooms\", \"Seniority\", \"Water\", \"Gas\", \n",
    "    \"Surveillance\", \"Electricity\", \"Internet\", \"Pool\", \n",
    "    \"Garage\", \"Pets\", \"Grill\", \"Elevator\", \"Terrace\", \n",
    "    \"IsHistoric\", \"Description\", \"img\"\n",
    "]\n",
    "\n",
    "# Reordenar las columnas del DataFrame\n",
    "df = df[orden_col]"
   ]
  },
  {
   "cell_type": "code",
   "execution_count": null,
   "metadata": {},
   "outputs": [],
   "source": [
    "df.head()"
   ]
  }
 ],
 "metadata": {
  "colab": {
   "provenance": []
  },
  "kernelspec": {
   "display_name": "venv",
   "language": "python",
   "name": "python3"
  },
  "language_info": {
   "codemirror_mode": {
    "name": "ipython",
    "version": 3
   },
   "file_extension": ".py",
   "mimetype": "text/x-python",
   "name": "python",
   "nbconvert_exporter": "python",
   "pygments_lexer": "ipython3",
   "version": "3.12.4"
  }
 },
 "nbformat": 4,
 "nbformat_minor": 0
}
